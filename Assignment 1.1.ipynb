{
 "cells": [
  {
   "cell_type": "markdown",
   "id": "87b8cbdf-2bd0-4fec-9e22-59728dd29b0d",
   "metadata": {},
   "source": [
    "# DATA TYPES:"
   ]
  },
  {
   "cell_type": "markdown",
   "id": "209a3549-23bc-49d9-8d98-e4711ccb1dd9",
   "metadata": {},
   "source": [
    "## Q.1 What are the different data types in Python?"
   ]
  },
  {
   "cell_type": "markdown",
   "id": "556a1005-25da-4f50-b05d-66a0912e20c3",
   "metadata": {},
   "source": [
    "* The different data types in Python are: integers, floating-point numbers, strings, booleans, lists, tuples, and dictionaries."
   ]
  },
  {
   "cell_type": "markdown",
   "id": "4bc5f079-3794-4481-af78-f92e2b876f8e",
   "metadata": {},
   "source": [
    "## Q.2 What is the difference between mutable and immutable data types?"
   ]
  },
  {
   "cell_type": "markdown",
   "id": "c9509d0a-bd4c-406a-b068-60439638e27a",
   "metadata": {},
   "source": [
    "* Mutable data types can be changed after they are created, while immutable data types cannot be changed once they are  created."
   ]
  },
  {
   "cell_type": "markdown",
   "id": "e600c331-443a-4760-8f29-c60a104fe670",
   "metadata": {},
   "source": [
    "## Q.3 What is the difference between a list and a tuple in Python?"
   ]
  },
  {
   "cell_type": "markdown",
   "id": "2669ad2a-7f21-41f2-8751-232019b960d0",
   "metadata": {},
   "source": [
    "* A list is a mutable sequence of elements, while a tuple is an immutable sequence of elements."
   ]
  },
  {
   "cell_type": "markdown",
   "id": "f57ad924-1e4b-40d2-b7c0-9bbc84036270",
   "metadata": {},
   "source": [
    "## Q.4 What is type conversion in Python and why is it important?"
   ]
  },
  {
   "cell_type": "markdown",
   "id": "dccc1b56-29e1-48fe-9a69-ecfa91ce2460",
   "metadata": {},
   "source": [
    "* Type conversion is the process of converting one data type to another. It is important because it allows us to perform operations that might not be possible with the original data type."
   ]
  },
  {
   "cell_type": "markdown",
   "id": "236e2523-77a0-4100-9c48-47d30fcdf544",
   "metadata": {},
   "source": [
    "## Q.5 What is dynamic typing in Python?"
   ]
  },
  {
   "cell_type": "markdown",
   "id": "8a18c9e6-5d5f-476b-8a29-c60e2472c76a",
   "metadata": {},
   "source": [
    "* Dynamic typing is the ability of Python to infer the data type of a variable based on the value it is assigned."
   ]
  },
  {
   "cell_type": "markdown",
   "id": "4ffb3098-5943-429f-9c00-cf0a42a4163d",
   "metadata": {},
   "source": [
    "# OPERATORS:"
   ]
  },
  {
   "cell_type": "markdown",
   "id": "b81698ee-dbfe-4628-9057-d3dfa9d16f7d",
   "metadata": {},
   "source": [
    "## Q.6 What are the different types of operators in Python?"
   ]
  },
  {
   "cell_type": "markdown",
   "id": "c940766d-a699-4f7a-bbec-44f5c107e63e",
   "metadata": {},
   "source": [
    "* The different types of operators in Python are: arithmetic, comparison, logical, assignment, identity, membership, and bitwise."
   ]
  },
  {
   "cell_type": "markdown",
   "id": "3b578067-e037-4898-810f-7f5c95a2340d",
   "metadata": {},
   "source": [
    "## Q.7 What is operator precedence and how is it determined?"
   ]
  },
  {
   "cell_type": "markdown",
   "id": "88885b5c-5fcf-4af0-86d2-a26e8a2cc828",
   "metadata": {},
   "source": [
    "* Operator precedence determines the order in which operators are evaluated. It is determined by the rules of the language and can be modified using parentheses."
   ]
  },
  {
   "cell_type": "markdown",
   "id": "54a4d0ca-9968-4dd4-9077-a416b97fc91b",
   "metadata": {},
   "source": [
    "## Q.8 What is the difference between '==' and 'is' in Python?"
   ]
  },
  {
   "cell_type": "markdown",
   "id": "d723a1db-5df4-4e20-8932-30df10c89262",
   "metadata": {},
   "source": [
    "* '==' is the equality operator and checks whether two objects have the same value. 'is' is the identity operator and checks whether two objects are the same object."
   ]
  },
  {
   "cell_type": "markdown",
   "id": "951cdb36-085d-4fb7-b9e4-9ed25adcf1a9",
   "metadata": {},
   "source": [
    "## Q.9 What is the purpose of the 'not' operator in Python?"
   ]
  },
  {
   "cell_type": "markdown",
   "id": "0c6e13fd-5908-4ae7-9b01-7f52bbc34ab9",
   "metadata": {},
   "source": [
    "* The 'not' operator is a logical operator that negates a boolean value."
   ]
  },
  {
   "cell_type": "markdown",
   "id": "b6cf259e-293e-4ffa-ab78-c7304c002589",
   "metadata": {},
   "source": [
    "## Q.10 How are arithmetic expressions evaluated in Python?"
   ]
  },
  {
   "cell_type": "markdown",
   "id": "848cdd23-c3f0-45e0-8069-dd10c544f95a",
   "metadata": {},
   "source": [
    "* Arithmetic expressions are evaluated using the rules of operator precedence."
   ]
  },
  {
   "cell_type": "markdown",
   "id": "e1e9a56e-c17f-4283-b156-336dfe847e5a",
   "metadata": {},
   "source": [
    "# CONDITIONAL STATEMENTS:"
   ]
  },
  {
   "cell_type": "markdown",
   "id": "12550b1b-a91f-4f32-a4eb-b552eac724fe",
   "metadata": {},
   "source": [
    "## Q.11 What are the different types of conditional statements in Python?"
   ]
  },
  {
   "cell_type": "markdown",
   "id": "f0ef945b-4b2a-407e-92e1-14d6500b406d",
   "metadata": {},
   "source": [
    "* The different types of conditional statements in Python are: 'if', 'elif', and 'else'."
   ]
  },
  {
   "cell_type": "markdown",
   "id": "6e2c396c-95f8-4535-b143-e4cbcf6a0cee",
   "metadata": {},
   "source": [
    "## Q.12 What is the difference between 'if' and 'elif' in Python?"
   ]
  },
  {
   "cell_type": "markdown",
   "id": "b60cdc7f-351c-4dff-8599-c207542bfda1",
   "metadata": {},
   "source": [
    "* 'if' is used to check a single condition, while 'elif' is used to check multiple conditions."
   ]
  },
  {
   "cell_type": "markdown",
   "id": "1fb3771f-cfef-4679-b1f0-8701a424cf7c",
   "metadata": {},
   "source": [
    "## Q.13 How do you write a nested conditional statement in Python?"
   ]
  },
  {
   "cell_type": "markdown",
   "id": "4ba66c23-b34e-42c7-817d-7f57abd80cbf",
   "metadata": {},
   "source": [
    "* A nested conditional statement is a conditional statement within another conditional statement."
   ]
  },
  {
   "cell_type": "markdown",
   "id": "65bf6091-d376-4911-a2ae-0e9829dcc377",
   "metadata": {},
   "source": [
    "## Q.14 What is the purpose of the 'pass' statement in Python?"
   ]
  },
  {
   "cell_type": "markdown",
   "id": "7ff71a0c-8b12-4ff7-9f0c-cda4c3cf4b33",
   "metadata": {},
   "source": [
    "* The 'pass' statement is a placeholder statement that does nothing. It is used when no action is required but a statement is needed for syntax purposes."
   ]
  },
  {
   "cell_type": "markdown",
   "id": "a940c2d5-3e96-4edb-844b-715311252e42",
   "metadata": {},
   "source": [
    "## Q.15 What is the ternary operator in Python?"
   ]
  },
  {
   "cell_type": "markdown",
   "id": "9bc8704d-ef66-443e-85b7-27e7c71cbda9",
   "metadata": {},
   "source": [
    "* The ternary operator is a shorthand way to write an 'if' statement in a single line."
   ]
  },
  {
   "cell_type": "markdown",
   "id": "5753c4fd-82b9-4ea2-829a-694c4b4d904d",
   "metadata": {},
   "source": [
    "# LOOPING STATEMENTS:"
   ]
  },
  {
   "cell_type": "markdown",
   "id": "c6525eea-cf8e-4c6d-b47c-ff3826e57fea",
   "metadata": {},
   "source": [
    "## Q.16 What are the different types of loops in Python?"
   ]
  },
  {
   "cell_type": "markdown",
   "id": "1314c946-d374-49b6-b1eb-8b3d7095bb7f",
   "metadata": {},
   "source": [
    "* The different types of loops in Python are: 'for' and 'while'."
   ]
  },
  {
   "cell_type": "markdown",
   "id": "c7b1b90c-3dac-49c1-a165-06c44aa41bfa",
   "metadata": {},
   "source": [
    "## Q.17 What is the difference between a 'for' loop and a 'while' loop in Python?"
   ]
  },
  {
   "cell_type": "markdown",
   "id": "76f0aa8e-2dd9-40b2-a11e-9d1ce994ce67",
   "metadata": {},
   "source": [
    "* 'for' loops are used when the number of iterations is known in advance, while 'while' loops are used when the number of iterations is not known in advance."
   ]
  },
  {
   "cell_type": "markdown",
   "id": "34034126-6abc-479d-b16c-89020e374eae",
   "metadata": {},
   "source": [
    "## Q.18 How do you terminate a loop in Python?"
   ]
  },
  {
   "cell_type": "markdown",
   "id": "fc3735ed-8542-4890-ac37-24e0bc732d4e",
   "metadata": {},
   "source": [
    "* Loops can be terminated using the 'break' statement."
   ]
  },
  {
   "cell_type": "markdown",
   "id": "565acb39-0554-4bc2-be7a-7b2c7e7a19d7",
   "metadata": {},
   "source": [
    "## Q.19 What is the 'break' statement in Python?"
   ]
  },
  {
   "cell_type": "markdown",
   "id": "a8721a03-1596-419f-87b0-cba571c3fbda",
   "metadata": {},
   "source": [
    "* The 'break' statement is used to exit a loop prematurely."
   ]
  },
  {
   "cell_type": "markdown",
   "id": "164047d8-e34f-437c-a85d-b297ecf57dd0",
   "metadata": {},
   "source": [
    "## Q.20 What is the 'continue' statement in Python?"
   ]
  },
  {
   "cell_type": "markdown",
   "id": "2b177262-d93d-45af-b05c-4876717e7826",
   "metadata": {},
   "source": [
    "* The 'continue' statement is used to skip the current iteration of a loop and move to the next iteration."
   ]
  },
  {
   "cell_type": "markdown",
   "id": "9c9ef401-a425-4be5-b637-986be633eb6e",
   "metadata": {},
   "source": [
    "# FUNCTIONS:"
   ]
  },
  {
   "cell_type": "markdown",
   "id": "5a5a62f3-0807-4c74-9ff8-bfc278c4cef2",
   "metadata": {},
   "source": [
    "## Q.21 What is a function in Python?"
   ]
  },
  {
   "cell_type": "markdown",
   "id": "9d7ff7de-1eb7-4766-a85d-a414594e9493",
   "metadata": {},
   "source": [
    "* A function is a block of code that performs a specific task and can be reused throughout a program."
   ]
  },
  {
   "cell_type": "markdown",
   "id": "4113c047-b8de-4e6f-893c-390f8298285e",
   "metadata": {},
   "source": [
    "## Q.22 What is the difference between a built-in function and a user-defined function?"
   ]
  },
  {
   "cell_type": "markdown",
   "id": "d4889001-f238-413f-93ab-be2d6c2a26be",
   "metadata": {},
   "source": [
    "* Built-in functions are functions that are included in Python, such as print() and len(). User-defined functions are functions that are created by the programmer."
   ]
  },
  {
   "cell_type": "markdown",
   "id": "e824ca5e-8eaa-4f79-a854-de3a9aea531d",
   "metadata": {},
   "source": [
    "## Q.23 What is the difference between 'return' and 'print' in Python?"
   ]
  },
  {
   "cell_type": "markdown",
   "id": "5152e920-e5d9-4c52-a589-d0e0d881b8e6",
   "metadata": {},
   "source": [
    "* 'return' is used to return a value from a function, while 'print' is used to display a value on the screen."
   ]
  },
  {
   "cell_type": "markdown",
   "id": "31e4c041-77b4-4e40-b9ed-6b54c8783ef3",
   "metadata": {},
   "source": [
    "## Q.24 What is the purpose of the 'global' keyword in Python?"
   ]
  },
  {
   "cell_type": "markdown",
   "id": "e090df7f-8ac8-4a74-9a1a-91b0c7791dca",
   "metadata": {},
   "source": [
    "* The 'global' keyword is used to access a global variable from within a function."
   ]
  },
  {
   "cell_type": "markdown",
   "id": "d131f87b-72a2-4e3e-ae9d-807d42f41345",
   "metadata": {},
   "source": [
    "## Q.25 What is a lambda function in Python and how is it different from a regular function?"
   ]
  },
  {
   "cell_type": "markdown",
   "id": "9784ee8b-a38f-4268-9c6b-e624c4fd6729",
   "metadata": {},
   "source": [
    "* A lambda function is a small anonymous function that can have any number of arguments but can only have one expression. It is used to create a function that can be used as an argument to another function."
   ]
  }
 ],
 "metadata": {
  "kernelspec": {
   "display_name": "Python 3 (ipykernel)",
   "language": "python",
   "name": "python3"
  },
  "language_info": {
   "codemirror_mode": {
    "name": "ipython",
    "version": 3
   },
   "file_extension": ".py",
   "mimetype": "text/x-python",
   "name": "python",
   "nbconvert_exporter": "python",
   "pygments_lexer": "ipython3",
   "version": "3.11.1"
  }
 },
 "nbformat": 4,
 "nbformat_minor": 5
}
